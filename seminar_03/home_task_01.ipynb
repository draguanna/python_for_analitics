{
 "cells": [
  {
   "cell_type": "code",
   "execution_count": 3,
   "metadata": {},
   "outputs": [],
   "source": [
    "# Импорт библиотек\n",
    "import pandas as pd"
   ]
  },
  {
   "cell_type": "markdown",
   "metadata": {},
   "source": [
    "1. Данные находятся в файле kc_house_data.csv.\n",
    "2. Считать данные с помощью pandas"
   ]
  },
  {
   "cell_type": "code",
   "execution_count": 4,
   "metadata": {},
   "outputs": [],
   "source": [
    "data = pd.read_csv(\"kc_house_data.csv\")"
   ]
  },
  {
   "cell_type": "markdown",
   "metadata": {},
   "source": [
    "3. Вывести на экран первые 5 строк."
   ]
  },
  {
   "cell_type": "code",
   "execution_count": null,
   "metadata": {},
   "outputs": [],
   "source": [
    "stroki = data.head()"
   ]
  },
  {
   "cell_type": "markdown",
   "metadata": {},
   "source": [
    "4. Создать новый признак `price_per_sq_lot`, который будет содержать `avg` = среднюю стоимость за один кв. метр общей площади."
   ]
  },
  {
   "cell_type": "code",
   "execution_count": 17,
   "metadata": {},
   "outputs": [
    {
     "name": "stdout",
     "output_type": "stream",
     "text": [
      "0         39.274336\n",
      "1         74.288870\n",
      "2         18.000000\n",
      "3        120.800000\n",
      "4         63.118812\n",
      "            ...    \n",
      "21608    318.302387\n",
      "21609     68.811285\n",
      "21610    297.852593\n",
      "21611    167.504188\n",
      "21612    302.044610\n",
      "Name: price_per_sq_lot, Length: 21613, dtype: float64\n"
     ]
    }
   ],
   "source": [
    "avg = data['price_per_sq_lot'] = data['price'] / data['sqft_lot']"
   ]
  },
  {
   "cell_type": "markdown",
   "metadata": {},
   "source": [
    "5. Создать новый признак `delta_renovated`, который будет содержать разницу в годах между годом реновации дома и годом постройки дома и сохраните в `renv`. Если реновации дома не было, то в новом признаке поставьте 0."
   ]
  },
  {
   "cell_type": "code",
   "execution_count": 18,
   "metadata": {},
   "outputs": [
    {
     "name": "stdout",
     "output_type": "stream",
     "text": [
      "0         0\n",
      "1        40\n",
      "2         0\n",
      "3         0\n",
      "4         0\n",
      "         ..\n",
      "21608     0\n",
      "21609     0\n",
      "21610     0\n",
      "21611     0\n",
      "21612     0\n",
      "Name: delta_renovated, Length: 21613, dtype: int64\n"
     ]
    }
   ],
   "source": [
    "data['delta_renovared'] = data.apply(lambda row: 0 if row['yr_renovated'] == 0 else row['yr_renovated'] - row['yr_built'], axis=1)\n",
    "renv = data['delta_renovared']"
   ]
  },
  {
   "cell_type": "markdown",
   "metadata": {},
   "source": [
    "6. Создайте признаки года продажи, месяца продажи и сохраните в `year_ch`, `month_ch`."
   ]
  },
  {
   "cell_type": "code",
   "execution_count": 20,
   "metadata": {},
   "outputs": [
    {
     "name": "stdout",
     "output_type": "stream",
     "text": [
      "0        2014\n",
      "1        2014\n",
      "2        2015\n",
      "3        2014\n",
      "4        2015\n",
      "         ... \n",
      "21608    2014\n",
      "21609    2015\n",
      "21610    2014\n",
      "21611    2015\n",
      "21612    2014\n",
      "Name: date, Length: 21613, dtype: int64\n"
     ]
    }
   ],
   "source": [
    "year_ch = data['year_ch'] = pd.to_datetime(data['date']).dt.year.astype(\"int64\")"
   ]
  },
  {
   "cell_type": "code",
   "execution_count": 22,
   "metadata": {},
   "outputs": [
    {
     "name": "stdout",
     "output_type": "stream",
     "text": [
      "0        10\n",
      "1        12\n",
      "2         2\n",
      "3        12\n",
      "4         2\n",
      "         ..\n",
      "21608     5\n",
      "21609     2\n",
      "21610     6\n",
      "21611     1\n",
      "21612    10\n",
      "Name: date, Length: 21613, dtype: int64\n"
     ]
    }
   ],
   "source": [
    "month_ch= data['month_ch'] = pd.to_datetime(data['date']).dt.month.astype(\"int64\")"
   ]
  },
  {
   "cell_type": "markdown",
   "metadata": {},
   "source": [
    "7. Удалите признаки `date`, `zipcode`, `lat`, `long` и сохраните в `new`."
   ]
  },
  {
   "cell_type": "code",
   "execution_count": 24,
   "metadata": {},
   "outputs": [
    {
     "name": "stdout",
     "output_type": "stream",
     "text": [
      "None\n"
     ]
    }
   ],
   "source": [
    "new = data.drop(columns=['date','zipcode', 'lat', 'long'], inplace=True)"
   ]
  }
 ],
 "metadata": {
  "kernelspec": {
   "display_name": "Python 3",
   "language": "python",
   "name": "python3"
  },
  "language_info": {
   "codemirror_mode": {
    "name": "ipython",
    "version": 3
   },
   "file_extension": ".py",
   "mimetype": "text/x-python",
   "name": "python",
   "nbconvert_exporter": "python",
   "pygments_lexer": "ipython3",
   "version": "3.12.0"
  }
 },
 "nbformat": 4,
 "nbformat_minor": 2
}
