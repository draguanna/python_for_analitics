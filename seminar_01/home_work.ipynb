{
 "cells": [
  {
   "cell_type": "markdown",
   "metadata": {},
   "source": [
    "## Задание 1. Ошибка в затратах на рекламу\n",
    "Дан список `adv` с затратами на рекламу. \n",
    "<br>Но в данных есть ошибки, некоторые затраты имеют отрицательную величину.\n",
    "Удалите такие значения из списка и посчитайте суммарные затраты. Запишите их в переменную `x`.\n",
    "<br>*Используйте list comprehensions*."
   ]
  },
  {
   "cell_type": "code",
   "execution_count": 1,
   "metadata": {},
   "outputs": [],
   "source": [
    "# Данные\n",
    "adv = [100, 125, -90, 345, 655, -1, 0, 200]"
   ]
  },
  {
   "cell_type": "code",
   "execution_count": 3,
   "metadata": {},
   "outputs": [
    {
     "data": {
      "text/plain": [
       "1425"
      ]
     },
     "execution_count": 3,
     "metadata": {},
     "output_type": "execute_result"
    }
   ],
   "source": [
    "# Решение\n",
    "clean_adv = [exp for exp in adv if exp >= 0]\n",
    "x = sum(clean_adv)"
   ]
  },
  {
   "cell_type": "markdown",
   "metadata": {},
   "source": [
    "## Задание 2. Склад с фруктами\n",
    "На складе лежат разные фрукты в разном количестве.\n",
    "Нужно написать функцию `total_fruits, которая на вход принимает любое количество названий фруктов и их количество, а возвращает общее количество фруктов на складе.\n",
    "<br>_Можно решить через *kwargs_"
   ]
  },
  {
   "cell_type": "code",
   "execution_count": 4,
   "metadata": {},
   "outputs": [],
   "source": [
    "# Решение\n",
    "def total_fruits(**fruits) -> int:\n",
    "    return sum(fruits.values())"
   ]
  },
  {
   "cell_type": "code",
   "execution_count": 5,
   "metadata": {},
   "outputs": [
    {
     "name": "stdout",
     "output_type": "stream",
     "text": [
      "23\n"
     ]
    }
   ],
   "source": [
    "# Данные\n",
    "print(total_fruits(apples=10, bananas=5, oranges=8))"
   ]
  },
  {
   "cell_type": "markdown",
   "metadata": {},
   "source": [
    "## Задание 3. Сумма покупок в ноябре\n",
    "Даны два списка: дата покупки `dates`, суммы покупок по датам `income`.\n",
    "<br>Найти итоговую сумму всех покупок в ноябре и сохранить ее в переменную `x`.\n",
    "<br>_Используйте list comprehensions._"
   ]
  },
  {
   "cell_type": "code",
   "execution_count": 6,
   "metadata": {},
   "outputs": [],
   "source": [
    "import datetime"
   ]
  },
  {
   "cell_type": "code",
   "execution_count": 7,
   "metadata": {},
   "outputs": [],
   "source": [
    "# Данные\n",
    "dates = ['2021-11-01', '2021-10-01', '2021-11-05']\n",
    "income = [100,200,300]"
   ]
  },
  {
   "cell_type": "code",
   "execution_count": 18,
   "metadata": {},
   "outputs": [
    {
     "data": {
      "text/plain": [
       "400"
      ]
     },
     "execution_count": 18,
     "metadata": {},
     "output_type": "execute_result"
    }
   ],
   "source": [
    "# Решение\n",
    "x = sum(amount for date, amount in zip(dates, income) if datetime.date.fromisoformat(date).month==11)"
   ]
  },
  {
   "cell_type": "markdown",
   "metadata": {},
   "source": [
    "## Задание 4. Найдите выручку компании\n",
    "Найдите выручку компании в зависимости от месяца.\n",
    "<br>Для этого напишите функцию `calc_income_by_month()`, которая на вход принимает список с датами и список с выручкой, а на выходе словарь, где ключи - это месяцы, а значения - это выручка.\n",
    "_Используйте аннотирование типов._"
   ]
  },
  {
   "cell_type": "code",
   "execution_count": 43,
   "metadata": {},
   "outputs": [],
   "source": [
    "from typing import List\n",
    "from datetime import date\n",
    "from collections import defaultdict"
   ]
  },
  {
   "cell_type": "code",
   "execution_count": 44,
   "metadata": {},
   "outputs": [],
   "source": [
    "# Данные\n",
    "dates = ['2021-11-01', '2021-10-01', '2021-11-05']\n",
    "incomes = [100,200,300]"
   ]
  },
  {
   "cell_type": "code",
   "execution_count": 49,
   "metadata": {},
   "outputs": [],
   "source": [
    "# Решение\n",
    "def calc_income_by_month(dates: List[str], incomes: List[int]) -> dict:\n",
    "    income_by_month = defaultdict(int)\n",
    "    for cur_date, amount in zip(dates, incomes):\n",
    "        month = str(date.fromisoformat(cur_date).month)\n",
    "        income_by_month[month] += amount\n",
    "    return dict(income_by_month)"
   ]
  },
  {
   "cell_type": "code",
   "execution_count": 50,
   "metadata": {},
   "outputs": [
    {
     "name": "stdout",
     "output_type": "stream",
     "text": [
      "{'11': 400, '10': 200}\n"
     ]
    }
   ],
   "source": [
    "# Проверка\n",
    "print(calc_income_by_month(dates, incomes))"
   ]
  }
 ],
 "metadata": {
  "kernelspec": {
   "display_name": "Python 3",
   "language": "python",
   "name": "python3"
  },
  "language_info": {
   "codemirror_mode": {
    "name": "ipython",
    "version": 3
   },
   "file_extension": ".py",
   "mimetype": "text/x-python",
   "name": "python",
   "nbconvert_exporter": "python",
   "pygments_lexer": "ipython3",
   "version": "3.12.0"
  }
 },
 "nbformat": 4,
 "nbformat_minor": 2
}
